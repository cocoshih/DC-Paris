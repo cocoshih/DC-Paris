{
 "cells": [
  {
   "cell_type": "code",
   "execution_count": 95,
   "metadata": {},
   "outputs": [],
   "source": [
    "import requests\n",
    "import json\n",
    "from PIL import Image\n",
    "import requests\n",
    "from io import BytesIO\n",
    "import numpy as np\n",
    "import matplotlib.pyplot as plt\n",
    "from PIL import Image, ImageFont, ImageDraw\n",
    "import requests\n",
    "import json\n",
    "import os\n"
   ]
  },
  {
   "cell_type": "code",
   "execution_count": null,
   "metadata": {},
   "outputs": [],
   "source": [
    "# low quality gen AI\n",
    "url = \"https://api.replicate.com/v1/predictions\"\n",
    "\n",
    "payload = json.dumps({\n",
    "  \"version\": \"ac732df83cea7fff18b8472768c88ad041fa750ff7682a21affe81863cbe77e4\",\n",
    "  \"input\": {\n",
    "    \"width\": 768,\n",
    "    \"height\": 768,\n",
    "    \"prompt\": \"a cocacola bottle in space\",\n",
    "    \"scheduler\": \"K_EULER\",\n",
    "    \"num_outputs\": 1,\n",
    "    \"guidance_scale\": 7,\n",
    "    \"num_inference_steps\": 25\n",
    "  }\n",
    "})\n",
    "headers = {\n",
    "  'Authorization': 'Bearer r8_###',\n",
    "  'Content-Type': 'application/json',\n",
    "  'Prefer': 'wait'\n",
    "}\n",
    "\n",
    "# response = requests.request(\"POST\", url, headers=headers, data=payload)\n",
    "\n",
    "# print(response.text)\n"
   ]
  },
  {
   "cell_type": "code",
   "execution_count": null,
   "metadata": {},
   "outputs": [],
   "source": [
    "# high quality gen AI\n",
    "url = \"https://api.replicate.com/v1/predictions\"\n",
    "\n",
    "payload = json.dumps({\n",
    "  \"version\": \"b761fa16918356ee07f31fad9b0d41d8919b9ff08f999e2d298a5a35b672f47e\",\n",
    "  \"input\": {\n",
    "    \"model\": \"dev\",\n",
    "    \"prompt\": \"a cocacola bottle in space\",\n",
    "    \"go_fast\": False,\n",
    "    \"lora_scale\": 1,\n",
    "    \"megapixels\": \"1\",\n",
    "    \"num_outputs\": 1,\n",
    "    \"aspect_ratio\": \"1:1\",\n",
    "    \"output_format\": \"webp\",\n",
    "    \"guidance_scale\": 3.5,\n",
    "    \"output_quality\": 80,\n",
    "    \"prompt_strength\": 0.8,\n",
    "    \"extra_lora_scale\": 0.8,\n",
    "    \"num_inference_steps\": 22\n",
    "  }\n",
    "})\n",
    "headers = {\n",
    "  'Authorization': 'Bearer r8_###',\n",
    "  'Content-Type': 'application/json',\n",
    "  'Prefer': 'wait'\n",
    "}\n",
    "\n",
    "# response = requests.request(\"POST\", url, headers=headers, data=payload)\n",
    "\n",
    "# print(response.text)"
   ]
  },
  {
   "cell_type": "code",
   "execution_count": 100,
   "metadata": {},
   "outputs": [],
   "source": [
    "# link = response.json()['output'][0]\n",
    "# response = requests.get(link)"
   ]
  },
  {
   "cell_type": "code",
   "execution_count": 68,
   "metadata": {},
   "outputs": [],
   "source": [
    "# img = Image.open(BytesIO(response.content))\n",
    "# img"
   ]
  },
  {
   "cell_type": "code",
   "execution_count": null,
   "metadata": {},
   "outputs": [
    {
     "data": {
      "text/plain": [
       "(1024, 1024, 3)"
      ]
     },
     "execution_count": 73,
     "metadata": {},
     "output_type": "execute_result"
    }
   ],
   "source": [
    "# #get numpy of image img\n",
    "# img_np = np.array(img)\n",
    "# img_np.shape"
   ]
  },
  {
   "cell_type": "code",
   "execution_count": 101,
   "metadata": {},
   "outputs": [],
   "source": [
    "def hide(img, txt):\n",
    "    img_np = np.array(img)\n",
    "    text = Image.fromarray(np.zeros(img_np.shape, dtype=np.uint8))\n",
    "    draw = ImageDraw.Draw(text)\n",
    "    font = ImageFont.truetype(r'Comic Sans MS.ttf', 80)\n",
    "    draw.text((0, 0), txt, font=font, align=\"left\")\n",
    "    text_np = np.array(text)\n",
    "    red = img_np[:,:,0]\n",
    "    hidden_np = np.copy(img_np)\n",
    "    hidden_np[:,:,0] = (red & 254) | (text_np[:,:,0] & 1)\n",
    "    hidden_np = Image.fromarray(hidden_np)\n",
    "    return hidden_np\n",
    "\n",
    "# hidden_img = hide(img, 'We will win this event!')\n",
    "# hidden_img"
   ]
  },
  {
   "cell_type": "markdown",
   "metadata": {},
   "source": [
    "---"
   ]
  },
  {
   "cell_type": "code",
   "execution_count": 104,
   "metadata": {},
   "outputs": [],
   "source": [
    "# text = np.zeros(img_np.shape, dtype=np.uint8)\n",
    "# text = Image.fromarray(text)\n",
    "# draw = ImageDraw.Draw(text)  \n",
    "# font = ImageFont.truetype(r'Comic Sans MS.ttf', 80)\n",
    "# draw.text((0, 0), 'We will win this event!', font = font, align =\"left\")  \n",
    "# text_np = np.array(text)\n",
    "# text"
   ]
  },
  {
   "cell_type": "code",
   "execution_count": 105,
   "metadata": {},
   "outputs": [],
   "source": [
    "# red = img_np[:,:,0]\n",
    "# hidden_np = np.copy(img_np)\n",
    "# hidden_np[:,:,0] = (red & 254) | (text_np[:,:,0] & 1)\n",
    "\n",
    "# plt.figure(figsize=(15, 5))\n",
    "# plt.subplot(1, 3, 1)\n",
    "# plt.imshow(img_np)#, cmap='Reds')\n",
    "# plt.subplot(1, 3, 2)\n",
    "# plt.imshow(hidden_np)#, cmap='Reds')\n",
    "# plt.subplot(1, 3, 3)\n",
    "# plt.imshow(hidden_np[:,:,0] & 1, cmap='Greys_r')\n",
    "# plt.show()"
   ]
  }
 ],
 "metadata": {
  "kernelspec": {
   "display_name": "Python 3",
   "language": "python",
   "name": "python3"
  },
  "language_info": {
   "codemirror_mode": {
    "name": "ipython",
    "version": 3
   },
   "file_extension": ".py",
   "mimetype": "text/x-python",
   "name": "python",
   "nbconvert_exporter": "python",
   "pygments_lexer": "ipython3",
   "version": "3.11.4"
  }
 },
 "nbformat": 4,
 "nbformat_minor": 2
}
